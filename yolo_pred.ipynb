{
 "cells": [
  {
   "cell_type": "code",
   "execution_count": 1,
   "id": "33233b1e",
   "metadata": {},
   "outputs": [],
   "source": [
    "import os\n",
    "import torch\n",
    "import pandas as pd\n",
    "\n",
    "\n",
    "os.environ['CUDA_LAUNCH_BLOCKING'] = \"1\"\n",
    "os.environ[\"CUDA_VISIBLE_DEVICES\"] = \"1\""
   ]
  },
  {
   "cell_type": "code",
   "execution_count": 2,
   "id": "c626eff0",
   "metadata": {},
   "outputs": [
    {
     "name": "stderr",
     "output_type": "stream",
     "text": [
      "Adding AutoShape... \n"
     ]
    }
   ],
   "source": [
    "model = torch.hub.load('.', 'custom', path='./runs/train/yslee_yolov5x/weights/best.pt', source='local',) # local repo"
   ]
  },
  {
   "cell_type": "code",
   "execution_count": 3,
   "id": "0ea1315b",
   "metadata": {},
   "outputs": [],
   "source": [
    "import glob\n",
    "import numpy as np\n",
    "import cv2\n",
    "\n",
    "imgs = []\n",
    "file_path = 'sim_test_4'\n",
    "file_lists = os.listdir(file_path)\n",
    "file_lists = ['105_ok', '106_ok', '142_ok', '43_ok', '491_ok', '51_ok']\n",
    "datasets, targets,file_name  = [], [], []\n",
    "for n, file_list in enumerate(file_lists):\n",
    "    img_lists = glob.glob(file_path+'/'+file_list+'/*.jpg')\n",
    "    for img in img_lists:\n",
    "        image_array = np.fromfile(img, np.uint8)\n",
    "        image = cv2.imdecode(image_array,3)\n",
    "        imgs.append(image)\n"
   ]
  },
  {
   "cell_type": "code",
   "execution_count": 4,
   "id": "fbf9ec84",
   "metadata": {},
   "outputs": [
    {
     "name": "stdout",
     "output_type": "stream",
     "text": [
      "5.322614431381226\n"
     ]
    }
   ],
   "source": [
    "import time\n",
    "start_time = time.time()\n",
    "final_result =[]\n",
    "for i in range(0,len(imgs),500):\n",
    "    results = model(imgs[i:i+500], size=250)  # includes NMS\n",
    "    final_result.append(results)\n",
    "print(time.time()-start_time)"
   ]
  },
  {
   "cell_type": "code",
   "execution_count": 5,
   "id": "593ec441",
   "metadata": {},
   "outputs": [
    {
     "name": "stdout",
     "output_type": "stream",
     "text": [
      "500\n",
      "500\n",
      "500\n",
      "500\n",
      "418\n"
     ]
    }
   ],
   "source": [
    "for result in final_result:\n",
    "    print(len(result))"
   ]
  },
  {
   "cell_type": "code",
   "execution_count": 6,
   "id": "dad577c2",
   "metadata": {},
   "outputs": [
    {
     "data": {
      "text/html": [
       "<div>\n",
       "<style scoped>\n",
       "    .dataframe tbody tr th:only-of-type {\n",
       "        vertical-align: middle;\n",
       "    }\n",
       "\n",
       "    .dataframe tbody tr th {\n",
       "        vertical-align: top;\n",
       "    }\n",
       "\n",
       "    .dataframe thead th {\n",
       "        text-align: right;\n",
       "    }\n",
       "</style>\n",
       "<table border=\"1\" class=\"dataframe\">\n",
       "  <thead>\n",
       "    <tr style=\"text-align: right;\">\n",
       "      <th></th>\n",
       "      <th>xmin</th>\n",
       "      <th>ymin</th>\n",
       "      <th>xmax</th>\n",
       "      <th>ymax</th>\n",
       "      <th>confidence</th>\n",
       "      <th>class</th>\n",
       "      <th>name</th>\n",
       "    </tr>\n",
       "  </thead>\n",
       "  <tbody>\n",
       "    <tr>\n",
       "      <th>0</th>\n",
       "      <td>120.422356</td>\n",
       "      <td>121.520988</td>\n",
       "      <td>130.981430</td>\n",
       "      <td>131.225571</td>\n",
       "      <td>0.592773</td>\n",
       "      <td>3</td>\n",
       "      <td>anomaly_51</td>\n",
       "    </tr>\n",
       "    <tr>\n",
       "      <th>1</th>\n",
       "      <td>164.184555</td>\n",
       "      <td>0.000000</td>\n",
       "      <td>208.862289</td>\n",
       "      <td>22.171019</td>\n",
       "      <td>0.319824</td>\n",
       "      <td>0</td>\n",
       "      <td>anomaly</td>\n",
       "    </tr>\n",
       "  </tbody>\n",
       "</table>\n",
       "</div>"
      ],
      "text/plain": [
       "         xmin        ymin        xmax        ymax  confidence  class  \\\n",
       "0  120.422356  121.520988  130.981430  131.225571    0.592773      3   \n",
       "1  164.184555    0.000000  208.862289   22.171019    0.319824      0   \n",
       "\n",
       "         name  \n",
       "0  anomaly_51  \n",
       "1     anomaly  "
      ]
     },
     "execution_count": 6,
     "metadata": {},
     "output_type": "execute_result"
    }
   ],
   "source": [
    "results.xyxy[0]  # img1 predictions (tensor)\n",
    "results.pandas().xyxy[0]  # img1 predictions (pandas)"
   ]
  },
  {
   "cell_type": "code",
   "execution_count": 7,
   "id": "4e7fe330",
   "metadata": {},
   "outputs": [
    {
     "name": "stdout",
     "output_type": "stream",
     "text": [
      "54.845831632614136\n"
     ]
    }
   ],
   "source": [
    "start_time = time.time()\n",
    "\n",
    "final_result = []\n",
    "for img in imgs:\n",
    "    final_result.append(model(img, size=250))\n",
    "    \n",
    "print(time.time()-start_time)"
   ]
  },
  {
   "cell_type": "code",
   "execution_count": 8,
   "id": "b7435c41",
   "metadata": {},
   "outputs": [],
   "source": [
    "#500장씩 묶는 것이 유리"
   ]
  }
 ],
 "metadata": {
  "kernelspec": {
   "display_name": "Python 3 (ipykernel)",
   "language": "python",
   "name": "python3"
  },
  "language_info": {
   "codemirror_mode": {
    "name": "ipython",
    "version": 3
   },
   "file_extension": ".py",
   "mimetype": "text/x-python",
   "name": "python",
   "nbconvert_exporter": "python",
   "pygments_lexer": "ipython3",
   "version": "3.9.7"
  }
 },
 "nbformat": 4,
 "nbformat_minor": 5
}
